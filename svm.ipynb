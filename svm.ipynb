{
 "cells": [
  {
   "cell_type": "code",
   "execution_count": 14,
   "metadata": {},
   "outputs": [
    {
     "name": "stdout",
     "output_type": "stream",
     "text": [
      "Training set has 237 samples.\n",
      "Testing set has 60 samples.\n"
     ]
    },
    {
     "data": {
      "text/plain": [
       "array([0, 1, 0, 0, 0, 1, 0, 1, 0, 1, 1, 1, 0, 1, 1, 1, 1, 0, 1, 1, 1, 1,\n",
       "       0, 0, 0, 0, 0, 1, 1, 0, 0, 1, 0, 1, 1, 0, 0, 0, 0, 1, 0, 0, 1, 1,\n",
       "       0, 0, 0, 1, 1, 1, 0, 1, 1, 0, 1, 1, 1, 1, 0, 1], dtype=int64)"
      ]
     },
     "execution_count": 14,
     "metadata": {},
     "output_type": "execute_result"
    }
   ],
   "source": [
    "import numpy as np\n",
    "import pandas as pd\n",
    "data=pd.read_csv(\"dataset1.csv\")\n",
    "data_new=pd.read_csv(\"dataset1.csv\",na_values=['?'])\n",
    "#data_new=data_new[['age','sex','chest_pain','bp','cholesterol','sugar','ec_result','heart_rate','induced_agina','st_depression','slope','no_vessels','thalassemia','pred_value']]\n",
    "data_new.dropna(inplace=True)\n",
    "predictions=data_new['pred_value']\n",
    "data_new\n",
    "features_raw = data_new[['age','sex','chest_pain','bp','cholesterol','sugar','ec_result','heart_rate','induced_agina','st_depression','slope','no_vessels','thalassemia']]\n",
    "from sklearn.model_selection import train_test_split\n",
    "\n",
    "predict_class = predictions.apply(lambda x: 0 if x == 0 else 1)\n",
    "np.random.seed(1234)\n",
    "\n",
    "X_train, X_test, y_train, y_test = train_test_split(features_raw, predict_class, train_size=0.80, random_state=1)\n",
    "\n",
    "\n",
    "# Show the results of the split\n",
    "print \"Training set has {} samples.\".format(X_train.shape[0])\n",
    "print \"Testing set has {} samples.\".format(X_test.shape[0])\n",
    "import sklearn\n",
    "from sklearn import svm\n",
    "\n",
    "C = 1.0\n",
    "svc = svm.SVC(kernel='linear',C=C,gamma=2)\n",
    "svc.fit(X_train, y_train)\n",
    "from sklearn.metrics import fbeta_score\n",
    "predictions_test = svc.predict(X_test)\n",
    "predictions_test\n",
    "\n"
   ]
  },
  {
   "cell_type": "code",
   "execution_count": null,
   "metadata": {},
   "outputs": [],
   "source": []
  },
  {
   "cell_type": "code",
   "execution_count": null,
   "metadata": {},
   "outputs": [],
   "source": []
  },
  {
   "cell_type": "code",
   "execution_count": 15,
   "metadata": {},
   "outputs": [
    {
     "name": "stdout",
     "output_type": "stream",
     "text": [
      "Training set has 237 samples.\n",
      "Testing set has 60 samples.\n",
      "0.8333333333333334\n"
     ]
    }
   ],
   "source": [
    "import numpy as np\n",
    "import pandas as pd\n",
    "data_new=pd.read_csv(\"dataset1.csv\",na_values=['?'])\n",
    "#data_new=data_new[['age','sex','chest_pain','bp','cholesterol','sugar','ec_result','heart_rate','induced_agina','st_depression','slope','no_vessels','thalassemia','pred_value']]\n",
    "data_new.dropna(inplace=True)\n",
    "predictions=data_new['pred_value']\n",
    "data_new\n",
    "features_raw = data_new[['age','sex','chest_pain','bp','cholesterol','sugar','ec_result','heart_rate','induced_agina','st_depression','slope','no_vessels','thalassemia']]\n",
    "from sklearn.model_selection import train_test_split\n",
    "\n",
    "predict_class = predictions.apply(lambda x: 0 if x == 0 else 1)\n",
    "np.random.seed(1234)\n",
    "\n",
    "X_train, X_test, y_train, y_test = train_test_split(features_raw, predict_class, train_size=0.80, random_state=1)\n",
    "\n",
    "\n",
    "# Show the results of the split\n",
    "print \"Training set has {} samples.\".format(X_train.shape[0])\n",
    "print \"Testing set has {} samples.\".format(X_test.shape[0])\n",
    "import sklearn\n",
    "from sklearn import svm\n",
    "\n",
    "C = 1.0\n",
    "svc = svm.SVC(kernel='linear',C=C,gamma=2)\n",
    "svc.fit(X_train, y_train)\n",
    "from sklearn.metrics import fbeta_score\n",
    "predictions_test = svc.predict(X_test)\n",
    "predictions_test\n",
    "\n"
   ]
  },
  {
   "cell_type": "code",
   "execution_count": 16,
   "metadata": {},
   "outputs": [
    {
     "name": "stdout",
     "output_type": "stream",
     "text": [
      "0.8333333333333334\n"
     ]
    }
   ],
   "source": [
    "from sklearn.metrics import accuracy_score\n",
    "print accuracy_score(y_test, predictions_test)"
   ]
  },
  {
   "cell_type": "code",
   "execution_count": 2,
   "metadata": {},
   "outputs": [
    {
     "name": "stdout",
     "output_type": "stream",
     "text": [
      "[ 27.923   7.499  16.881  18.87   37.7     6.658  14.058 215.713  41.534\n",
      " 101.998  10.542 109.867  70.258]\n",
      "[[ 63.  145.  233.  150.    0.    2.3   0.    6. ]\n",
      " [ 67.  160.  286.  108.    1.    1.5   3.    3. ]\n",
      " [ 67.  120.  229.  129.    1.    2.6   2.    7. ]\n",
      " [ 37.  130.  250.  187.    0.    3.5   0.    3. ]\n",
      " [ 41.  130.  204.  172.    0.    1.4   0.    3. ]\n",
      " [ 56.  120.  236.  178.    0.    0.8   0.    3. ]\n",
      " [ 62.  140.  268.  160.    0.    3.6   2.    3. ]\n",
      " [ 57.  120.  354.  163.    1.    0.6   0.    3. ]\n",
      " [ 63.  130.  254.  147.    0.    1.4   1.    7. ]\n",
      " [ 53.  140.  203.  155.    1.    3.1   0.    7. ]]\n"
     ]
    }
   ],
   "source": [
    "import sklearn\n",
    "import numpy as np\n",
    "import pandas as pd\n",
    "dataframe = pd.read_csv(\"newdataset.csv\")\n",
    "array = dataframe.values\n",
    "X = array[:,0:13]\n",
    "Y = array[:,13]\n",
    "from sklearn.feature_selection import SelectKBest\n",
    "from sklearn.feature_selection import chi2\n",
    "test = SelectKBest(score_func=chi2, k=8)\n",
    "fit = test.fit(X,Y)\n",
    "# Summarize scores\n",
    "np.set_printoptions(precision=3)\n",
    "print(fit.scores_)\n",
    "features = fit.transform(X)\n",
    "# Summarize selected features\n",
    "print(features[0:10,:])\n"
   ]
  },
  {
   "cell_type": "code",
   "execution_count": null,
   "metadata": {},
   "outputs": [],
   "source": []
  }
 ],
 "metadata": {
  "kernelspec": {
   "display_name": "Python 2",
   "language": "python",
   "name": "python2"
  },
  "language_info": {
   "codemirror_mode": {
    "name": "ipython",
    "version": 2
   },
   "file_extension": ".py",
   "mimetype": "text/x-python",
   "name": "python",
   "nbconvert_exporter": "python",
   "pygments_lexer": "ipython2",
   "version": "2.7.15"
  }
 },
 "nbformat": 4,
 "nbformat_minor": 2
}
